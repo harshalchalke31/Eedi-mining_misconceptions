{
 "cells": [
  {
   "cell_type": "markdown",
   "metadata": {},
   "source": [
    "## Dependencies"
   ]
  },
  {
   "cell_type": "code",
   "execution_count": null,
   "metadata": {},
   "outputs": [],
   "source": [
    "import os\n",
    "import numpy as np\n",
    "import pandas as pd\n",
    "from sklearn.model_selection import train_test_split\n",
    "from sentence_transformers import SentenceTransformer, CrossEncoder\n",
    "from tqdm import tqdm\n",
    "import torch\n",
    "from utils import *\n",
    "pd.set_option('display.max_rows', 300)\n",
    "\n",
    "IS_SUBMISSION = False\n",
    "K = 25\n",
    "INTERMEDIATE_K = 200  # Increased from 100 to 200\n",
    "\n",
    "device_bi = 'cuda:1' if torch.cuda.is_available() else 'cpu'\n",
    "device_ce = 'cuda:1' if torch.cuda.is_available() else 'cpu'\n",
    "\n",
    "print('IS_SUBMISSION:', IS_SUBMISSION)\n",
    "\n",
    "torch.cuda.empty_cache()\n"
   ]
  },
  {
   "cell_type": "code",
   "execution_count": null,
   "metadata": {},
   "outputs": [],
   "source": [
    "print(\"Loading data...\")\n",
    "df_full_train = pd.read_csv(\"./data/train.csv\").fillna(-1)\n",
    "df_test = pd.read_csv(\"./data/test.csv\")\n",
    "df_misconception_mapping = pd.read_csv(\"./data/misconception_mapping.csv\")\n",
    "\n",
    "df_train_split, df_val = train_test_split(df_full_train, test_size=0.2, random_state=42)\n",
    "df_train_split = df_train_split.reset_index(drop=True)\n",
    "df_val = df_val.reset_index(drop=True)\n",
    "\n",
    "misconceptions = df_misconception_mapping['MisconceptionName'].astype(str).tolist()\n",
    "\n",
    "MISCONCEPTION_GUIDANCE = (\"A misconception is a commonly misunderstood concept in mathematics. \"\n",
    "                          \"Your task: Identify the math misconception related to the chosen wrong answer.\")\n"
   ]
  },
  {
   "cell_type": "markdown",
   "metadata": {},
   "source": [
    "## Helper functions"
   ]
  },
  {
   "cell_type": "code",
   "execution_count": null,
   "metadata": {},
   "outputs": [],
   "source": [
    "def clean_text(text):\n",
    "    if not isinstance(text, str):\n",
    "        text = str(text)\n",
    "    text = text.replace(\"\\\\(\", \"\").replace(\"\\\\)\", \"\").replace(\"\\\\[\", \"\").replace(\"\\\\]\", \"\")\n",
    "    text = \" \".join(text.split())\n",
    "    return text\n",
    "\n",
    "def prepare_input_df(df, is_submission):\n",
    "    items = []\n",
    "    target_ids = []\n",
    "    print(\"Preparing input dataframe...\")\n",
    "    for _, row in df.iterrows():\n",
    "        correct_answer = row.get(\"CorrectAnswer\", \"\")\n",
    "        correct_answer_text = clean_text(row.get(f\"Answer{correct_answer}Text\",\"\"))\n",
    "        for choice in ['A', 'B', 'C', 'D']:\n",
    "            if choice == correct_answer:\n",
    "                continue\n",
    "            misconception_id = row.get(f'Misconception{choice}Id', -1)\n",
    "            if not is_submission and misconception_id == -1:\n",
    "                continue\n",
    "\n",
    "            q_id_ans = f\"{row['QuestionId']}_{choice}\"\n",
    "            \n",
    "            question_text = clean_text(row.get('QuestionText',''))\n",
    "            cName = clean_text(row.get('ConstructName',''))\n",
    "            sName = clean_text(row.get('SubjectName',''))\n",
    "            chosen_wrong = clean_text(row.get(f'Answer{choice}Text',''))\n",
    "            \n",
    "            # Focus on question, correct and chosen wrong answer only\n",
    "            # Emphasize wrong answer by special tokens\n",
    "            full_context = (\n",
    "                f\"[SUBJECT]: {sName}\\n\"\n",
    "                f\"[CONSTRUCT]: {cName}\\n\"\n",
    "                f\"[QUESTION]: {question_text}\\n\"\n",
    "                f\"[CORRECT_ANSWER]: {correct_answer_text}\\n\"\n",
    "                f\"[CHOSEN_WRONG_ANSWER]: <<{chosen_wrong}>>\\n\"\n",
    "                f\"[GUIDANCE]: {MISCONCEPTION_GUIDANCE}\"\n",
    "            )\n",
    "            \n",
    "            items.append({'QuestionId_Answer': q_id_ans, 'Text': full_context})\n",
    "            target_ids.append(int(misconception_id))\n",
    "    return pd.DataFrame(items), target_ids\n",
    "\n"
   ]
  },
  {
   "cell_type": "markdown",
   "metadata": {},
   "source": [
    "## Model and evaluation"
   ]
  },
  {
   "cell_type": "code",
   "execution_count": null,
   "metadata": {},
   "outputs": [],
   "source": [
    "df_train_input, train_target_ids = prepare_input_df(df_train_split, is_submission=False)\n",
    "df_val_input, val_target_ids = prepare_input_df(df_val, is_submission=False)\n",
    "df_test_input, _ = prepare_input_df(df_test, is_submission=True)\n",
    "\n",
    "print(\"Loading bi-encoder model...\")\n",
    "bi_model_name = \"sentence-transformers/all-mpnet-base-v2\"\n",
    "bi_model = SentenceTransformer(bi_model_name, device=device_bi)\n",
    "\n",
    "print(\"Loading cross-encoder model...\")\n",
    "# A slightly larger cross-encoder for better re-ranking performance\n",
    "ce_model_name = \"cross-encoder/ms-marco-MiniLM-L-12-v2\"\n",
    "ce_model = CrossEncoder(ce_model_name, device=device_ce)\n"
   ]
  },
  {
   "cell_type": "code",
   "execution_count": null,
   "metadata": {},
   "outputs": [],
   "source": [
    "def embed_texts_bi(texts, model, batch_size=16):\n",
    "    print(f\"Embedding {len(texts)} texts with bi-encoder...\")\n",
    "    return model.encode(texts, batch_size=batch_size, convert_to_numpy=True, show_progress_bar=True)\n",
    "\n",
    "print(\"Embedding misconceptions with bi-encoder...\")\n",
    "misconception_embeds = embed_texts_bi(misconceptions, bi_model)\n",
    "\n",
    "def initial_retrieve(df_input, doc_embeds):\n",
    "    print(\"Initial retrieval with bi-encoder...\")\n",
    "    query_embeds = embed_texts_bi(df_input['Text'].tolist(), bi_model)\n",
    "    print(\"Computing similarity for initial retrieval...\")\n",
    "    sim = np.dot(query_embeds, doc_embeds.T)\n",
    "    top_candidates = np.argsort(sim, axis=1)[:, -INTERMEDIATE_K:][:, ::-1]\n",
    "    return top_candidates, sim\n",
    "\n",
    "def re_rank(df_input, top_candidates):\n",
    "    print(\"Re-ranking with cross-encoder...\")\n",
    "    query_texts = df_input['Text'].tolist()\n",
    "    reranked_indices = []\n",
    "    all_pairs = []\n",
    "    all_offsets = []\n",
    "    offset = 0\n",
    "    for i, qtext in enumerate(query_texts):\n",
    "        cand_indices = top_candidates[i]\n",
    "        cand_texts = [misconceptions[idx] for idx in cand_indices]\n",
    "        pairs = [(qtext, ctext) for ctext in cand_texts]\n",
    "        all_pairs.extend(pairs)\n",
    "        all_offsets.append((offset, offset+len(pairs), cand_indices))\n",
    "        offset += len(pairs)\n",
    "\n",
    "    print(\"Predicting scores with cross-encoder...\")\n",
    "    scores = ce_model.predict(all_pairs)\n",
    "    print(\"Done cross-encoder predictions, now sorting results...\")\n",
    "    for (start, end, cand_indices) in all_offsets:\n",
    "        sub_scores = scores[start:end]\n",
    "        sorted_cand = np.argsort(sub_scores)[::-1][:K]\n",
    "        final_selection = cand_indices[sorted_cand]\n",
    "        reranked_indices.append(final_selection)\n",
    "    return reranked_indices\n",
    "\n",
    "def map_at_k(y_true, y_pred, k=25):\n",
    "    print(\"Calculating MAP@K...\")\n",
    "    average_precisions = []\n",
    "    for true, preds in zip(y_true, y_pred):\n",
    "        if true in preds[:k]:\n",
    "            rank = (preds[:k] == true).nonzero()[0][0] + 1\n",
    "            ap = 1.0 / rank\n",
    "        else:\n",
    "            ap = 0.0\n",
    "        average_precisions.append(ap)\n",
    "    return np.mean(average_precisions) if average_precisions else 0.0"
   ]
  },
  {
   "cell_type": "code",
   "execution_count": 1,
   "metadata": {},
   "outputs": [
    {
     "name": "stderr",
     "output_type": "stream",
     "text": [
      "/home/hc4293/miniconda3/envs/nlpenv/lib/python3.12/site-packages/tqdm/auto.py:21: TqdmWarning: IProgress not found. Please update jupyter and ipywidgets. See https://ipywidgets.readthedocs.io/en/stable/user_install.html\n",
      "  from .autonotebook import tqdm as notebook_tqdm\n"
     ]
    },
    {
     "name": "stdout",
     "output_type": "stream",
     "text": [
      "IS_SUBMISSION: False\n",
      "Loading data...\n",
      "Preparing input dataframe...\n",
      "Preparing input dataframe...\n",
      "Preparing input dataframe...\n",
      "Loading bi-encoder model...\n",
      "Loading cross-encoder model...\n",
      "Embedding misconceptions with bi-encoder...\n",
      "Embedding 2587 texts with bi-encoder...\n"
     ]
    },
    {
     "name": "stderr",
     "output_type": "stream",
     "text": [
      "Batches: 100%|██████████| 162/162 [00:02<00:00, 79.73it/s] \n"
     ]
    },
    {
     "name": "stdout",
     "output_type": "stream",
     "text": [
      "Starting evaluation on training split...\n",
      "Initial retrieval with bi-encoder...\n",
      "Embedding 3503 texts with bi-encoder...\n"
     ]
    },
    {
     "name": "stderr",
     "output_type": "stream",
     "text": [
      "Batches: 100%|██████████| 219/219 [00:15<00:00, 14.02it/s]\n"
     ]
    },
    {
     "name": "stdout",
     "output_type": "stream",
     "text": [
      "Computing similarity for initial retrieval...\n",
      "Re-ranking with cross-encoder...\n",
      "Predicting scores with cross-encoder...\n",
      "Done cross-encoder predictions, now sorting results...\n",
      "Calculating MAP@K...\n",
      "Train MAP@25: 0.1169\n",
      "Starting evaluation on validation split...\n",
      "Initial retrieval with bi-encoder...\n",
      "Embedding 867 texts with bi-encoder...\n"
     ]
    },
    {
     "name": "stderr",
     "output_type": "stream",
     "text": [
      "Batches: 100%|██████████| 55/55 [00:03<00:00, 13.91it/s]\n"
     ]
    },
    {
     "name": "stdout",
     "output_type": "stream",
     "text": [
      "Computing similarity for initial retrieval...\n",
      "Re-ranking with cross-encoder...\n",
      "Predicting scores with cross-encoder...\n",
      "Done cross-encoder predictions, now sorting results...\n",
      "Calculating MAP@K...\n",
      "Validation MAP@25: 0.1045\n",
      "Generating final submission for test set...\n",
      "Initial retrieval with bi-encoder...\n",
      "Embedding 9 texts with bi-encoder...\n"
     ]
    },
    {
     "name": "stderr",
     "output_type": "stream",
     "text": [
      "Batches: 100%|██████████| 1/1 [00:00<00:00, 20.39it/s]"
     ]
    },
    {
     "name": "stdout",
     "output_type": "stream",
     "text": [
      "Computing similarity for initial retrieval...\n",
      "Re-ranking with cross-encoder...\n",
      "Predicting scores with cross-encoder...\n"
     ]
    },
    {
     "name": "stderr",
     "output_type": "stream",
     "text": [
      "\n"
     ]
    },
    {
     "name": "stdout",
     "output_type": "stream",
     "text": [
      "Done cross-encoder predictions, now sorting results...\n",
      "submission.csv created successfully at './data/submissionsv9.csv'!\n"
     ]
    }
   ],
   "source": [
    "\n",
    "print(\"Starting evaluation on training split...\")\n",
    "train_candidates, _ = initial_retrieve(df_train_input, misconception_embeds)\n",
    "train_reranked = re_rank(df_train_input, train_candidates)\n",
    "train_map25 = map_at_k(train_target_ids, train_reranked, k=25)\n",
    "print(f\"Train MAP@25: {train_map25:.4f}\")\n",
    "\n",
    "print(\"Starting evaluation on validation split...\")\n",
    "val_candidates, _ = initial_retrieve(df_val_input, misconception_embeds)\n",
    "val_reranked = re_rank(df_val_input, val_candidates)\n",
    "val_map25 = map_at_k(val_target_ids, val_reranked, k=25)\n",
    "print(f\"Validation MAP@25: {val_map25:.4f}\")\n",
    "\n",
    "print(\"Generating final submission for test set...\")\n",
    "test_candidates, _ = initial_retrieve(df_test_input, misconception_embeds)\n",
    "test_reranked = re_rank(df_test_input, test_candidates)\n",
    "df_test_input[\"MisconceptionId\"] = [\" \".join(map(str, row)) for row in test_reranked]\n",
    "df_test_input[[\"QuestionId_Answer\", \"MisconceptionId\"]].to_csv(\"./data/submissionsv9.csv\", index=False)\n",
    "print(\"submission.csv created successfully at './data/submissionsv9.csv'!\")\n"
   ]
  },
  {
   "cell_type": "code",
   "execution_count": null,
   "metadata": {},
   "outputs": [],
   "source": [
    "##############################################\n",
    "# Combined Code Incorporating Multiple Methods\n",
    "##############################################\n",
    "\n",
    "# Methods Used:\n",
    "# 1) Add Structured Features to the Text Representation\n",
    "#    - We will prepend tags like [SUBJECT], [CONSTRUCT].\n",
    "#    - Highlight the wrong answer text distinctly.\n",
    "#    - Remove LaTeX and normalize formatting.\n",
    "#\n",
    "# 2) Two-Stage Retrieval (Re-rank with a Cross-Encoder)\n",
    "#    - Stage 1: Use a sentence-transformer bi-encoder for initial retrieval of top 100 misconceptions.\n",
    "#    - Stage 2: Use a cross-encoder to re-rank these top 100 misconceptions and pick the top 25.\n",
    "#\n",
    "# 3) Incorporate Misconception Definitions into Query\n",
    "#    - Add a generic definition of a \"misconception\" or guidance text to the query prompt.\n",
    "#\n",
    "# 4) Filter or Normalize Input Text\n",
    "#    - Remove LaTeX markers and any complicated formatting from the question text and answers.\n",
    "#\n",
    "# Model Choices:\n",
    "# - For the initial retrieval (Stage 1), we use a sentence-transformer model suitable for semantic search:\n",
    "#   \"sentence-transformers/all-mpnet-base-v2\" (good trade-off between performance and model size).\n",
    "#\n",
    "# - For the cross-encoder (Stage 2), we use a model specialized for re-ranking:\n",
    "#   \"cross-encoder/ms-marco-MiniLM-L-6-v2\"\n",
    "#\n",
    "# Adjust batch sizes and device as needed to handle memory constraints.\n",
    "\n",
    "##############################################\n",
    "# Attempt with Different Strategies:\n",
    "# - Larger cross-encoder (e.g. \"cross-encoder/ms-marco-MiniLM-L-12-v2\")\n",
    "# - Only use correct and chosen wrong answer in the query to reduce noise\n",
    "# - Increase intermediate retrieval to 200\n",
    "# - Emphasize wrong answer\n",
    "##############################################"
   ]
  }
 ],
 "metadata": {
  "kernelspec": {
   "display_name": "nlpenv",
   "language": "python",
   "name": "python3"
  },
  "language_info": {
   "codemirror_mode": {
    "name": "ipython",
    "version": 3
   },
   "file_extension": ".py",
   "mimetype": "text/x-python",
   "name": "python",
   "nbconvert_exporter": "python",
   "pygments_lexer": "ipython3",
   "version": "3.12.8"
  }
 },
 "nbformat": 4,
 "nbformat_minor": 2
}
