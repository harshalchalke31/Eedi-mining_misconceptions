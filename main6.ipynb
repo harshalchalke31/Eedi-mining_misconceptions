{
 "cells": [
  {
   "cell_type": "code",
   "execution_count": 1,
   "metadata": {},
   "outputs": [
    {
     "name": "stderr",
     "output_type": "stream",
     "text": [
      "/home/hc4293/miniconda3/envs/nlpenv/lib/python3.12/site-packages/tqdm/auto.py:21: TqdmWarning: IProgress not found. Please update jupyter and ipywidgets. See https://ipywidgets.readthedocs.io/en/stable/user_install.html\n",
      "  from .autonotebook import tqdm as notebook_tqdm\n"
     ]
    },
    {
     "name": "stdout",
     "output_type": "stream",
     "text": [
      "IS_SUBMISSION: False\n"
     ]
    },
    {
     "name": "stderr",
     "output_type": "stream",
     "text": [
      "Batches: 100%|██████████| 324/324 [00:01<00:00, 256.52it/s]\n",
      "Batches: 100%|██████████| 438/438 [00:03<00:00, 132.51it/s]\n"
     ]
    },
    {
     "name": "stdout",
     "output_type": "stream",
     "text": [
      "Train MAP@25: 0.1621\n"
     ]
    },
    {
     "name": "stderr",
     "output_type": "stream",
     "text": [
      "Batches: 100%|██████████| 109/109 [00:00<00:00, 131.65it/s]\n"
     ]
    },
    {
     "name": "stdout",
     "output_type": "stream",
     "text": [
      "Validation MAP@25: 0.1551\n"
     ]
    },
    {
     "name": "stderr",
     "output_type": "stream",
     "text": [
      "Batches: 100%|██████████| 2/2 [00:00<00:00, 110.78it/s]"
     ]
    },
    {
     "name": "stdout",
     "output_type": "stream",
     "text": [
      "submission.csv created successfully!\n"
     ]
    },
    {
     "name": "stderr",
     "output_type": "stream",
     "text": [
      "\n"
     ]
    }
   ],
   "source": [
    "import os\n",
    "import numpy as np\n",
    "import pandas as pd\n",
    "from sklearn.model_selection import train_test_split\n",
    "from sentence_transformers import SentenceTransformer\n",
    "from tqdm import tqdm\n",
    "import torch\n",
    "\n",
    "pd.set_option('display.max_rows', 300)\n",
    "\n",
    "# Set device\n",
    "device = 'cuda:5'\n",
    "\n",
    "IS_SUBMISSION = False\n",
    "K = 25\n",
    "embedding_model_name = \"sentence-transformers/all-MiniLM-L6-v2\"  # Smaller model\n",
    "\n",
    "print('IS_SUBMISSION:', IS_SUBMISSION)\n",
    "\n",
    "# Clear CUDA cache\n",
    "torch.cuda.empty_cache()\n",
    "\n",
    "# Load data\n",
    "df_full_train = pd.read_csv(\"./data/train.csv\").fillna(-1)\n",
    "df_test = pd.read_csv(\"./data/test.csv\")\n",
    "df_misconception_mapping = pd.read_csv(\"./data/misconception_mapping.csv\")\n",
    "\n",
    "df_train_split, df_val = train_test_split(df_full_train, test_size=0.2, random_state=42)\n",
    "df_train_split = df_train_split.reset_index(drop=True)\n",
    "df_val = df_val.reset_index(drop=True)\n",
    "\n",
    "def prepare_input_df(df, is_submission):\n",
    "    items = []\n",
    "    target_ids = []\n",
    "    for _, row in df.iterrows():\n",
    "        for choice in ['A', 'B', 'C', 'D']:\n",
    "            if choice == row[\"CorrectAnswer\"]:\n",
    "                continue\n",
    "            if not is_submission and row.get(f'Misconception{choice}Id', -1) == -1:\n",
    "                continue\n",
    "            q_id_ans = f\"{row['QuestionId']}_{choice}\"\n",
    "            full_context = (\n",
    "                f\"ConstructName: {row.get('ConstructName','')}\\n\"\n",
    "                f\"SubjectName: {row.get('SubjectName','')}\\n\"\n",
    "                f\"Question: {row.get('QuestionText','')}\\n\"\n",
    "                f\"Answers:\\nA) {row.get('AnswerAText','')}\\nB) {row.get('AnswerBText','')}\\n\"\n",
    "                f\"C) {row.get('AnswerCText','')}\\nD) {row.get('AnswerDText','')}\\n\"\n",
    "                f\"CorrectAnswer: {row.get('CorrectAnswer','')}\\n\"\n",
    "                f\"Chosen Wrong Answer: {choice}\\n\"\n",
    "                f\"Chosen Wrong Answer Text: {row.get(f'Answer{choice}Text','')}\\n\"\n",
    "            )\n",
    "            items.append({'QuestionId_Answer': q_id_ans, 'Text': full_context})\n",
    "            target_ids.append(int(row.get(f'Misconception{choice}Id', -1)))\n",
    "    df_input = pd.DataFrame(items)\n",
    "    return df_input, target_ids\n",
    "\n",
    "df_train_input, train_target_ids = prepare_input_df(df_train_split, is_submission=False)\n",
    "df_val_input, val_target_ids = prepare_input_df(df_val, is_submission=False)\n",
    "df_test_input, _ = prepare_input_df(df_test, is_submission=True)\n",
    "\n",
    "misconceptions = df_misconception_mapping['MisconceptionName'].astype(str).tolist()\n",
    "\n",
    "# Load smaller, more memory-efficient model directly on GPU #5\n",
    "model = SentenceTransformer(embedding_model_name, device=device)\n",
    "\n",
    "def embed_texts(texts, model, batch_size=8):\n",
    "    return model.encode(texts, batch_size=batch_size, convert_to_numpy=True, show_progress_bar=True)\n",
    "\n",
    "misconception_embeds = embed_texts(misconceptions, model)\n",
    "\n",
    "def get_predictions(df_input, doc_embeds):\n",
    "    query_embeds = embed_texts(df_input['Text'].tolist(), model)\n",
    "    sim = np.matmul(query_embeds, doc_embeds.T)\n",
    "    top_k_indices = np.argsort(sim, axis=1)[:, -K:][:, ::-1]\n",
    "    return top_k_indices\n",
    "\n",
    "def map_at_k(y_true, y_pred, k=25):\n",
    "    average_precisions = []\n",
    "    for true, preds in zip(y_true, y_pred):\n",
    "        if true in preds[:k]:\n",
    "            rank = (preds[:k] == true).nonzero()[0][0] + 1\n",
    "            ap = 1.0 / rank\n",
    "        else:\n",
    "            ap = 0.0\n",
    "        average_precisions.append(ap)\n",
    "    return np.mean(average_precisions) if average_precisions else 0.0\n",
    "\n",
    "# Evaluate Train\n",
    "train_sorted_indices = get_predictions(df_train_input, misconception_embeds)\n",
    "train_map25 = map_at_k(train_target_ids, train_sorted_indices, k=25)\n",
    "print(f\"Train MAP@25: {train_map25:.4f}\")\n",
    "\n",
    "# Evaluate Val\n",
    "val_sorted_indices = get_predictions(df_val_input, misconception_embeds)\n",
    "val_map25 = map_at_k(val_target_ids, val_sorted_indices, k=25)\n",
    "print(f\"Validation MAP@25: {val_map25:.4f}\")\n",
    "\n",
    "# Test Submission\n",
    "test_sorted_indices = get_predictions(df_test_input, misconception_embeds)\n",
    "df_test_input[\"MisconceptionId\"] = [\" \".join(map(str, row)) for row in test_sorted_indices]\n",
    "df_test_input[[\"QuestionId_Answer\", \"MisconceptionId\"]].to_csv(\"submissionv6.csv\", index=False)\n",
    "print(\"submissionv6.csv created successfully!\")\n"
   ]
  },
  {
   "cell_type": "code",
   "execution_count": null,
   "metadata": {},
   "outputs": [],
   "source": []
  }
 ],
 "metadata": {
  "kernelspec": {
   "display_name": "nlpenv",
   "language": "python",
   "name": "python3"
  },
  "language_info": {
   "codemirror_mode": {
    "name": "ipython",
    "version": 3
   },
   "file_extension": ".py",
   "mimetype": "text/x-python",
   "name": "python",
   "nbconvert_exporter": "python",
   "pygments_lexer": "ipython3",
   "version": "3.12.8"
  }
 },
 "nbformat": 4,
 "nbformat_minor": 2
}
