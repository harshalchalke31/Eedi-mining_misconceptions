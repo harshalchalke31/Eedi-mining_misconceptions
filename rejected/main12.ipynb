{
 "cells": [
  {
   "cell_type": "code",
   "execution_count": 1,
   "metadata": {},
   "outputs": [
    {
     "name": "stderr",
     "output_type": "stream",
     "text": [
      "/home/hc4293/miniconda3/envs/nlpenv/lib/python3.12/site-packages/tqdm/auto.py:21: TqdmWarning: IProgress not found. Please update jupyter and ipywidgets. See https://ipywidgets.readthedocs.io/en/stable/user_install.html\n",
      "  from .autonotebook import tqdm as notebook_tqdm\n"
     ]
    },
    {
     "name": "stdout",
     "output_type": "stream",
     "text": [
      "IS_SUBMISSION: False\n",
      "Embedding misconceptions...\n"
     ]
    },
    {
     "name": "stderr",
     "output_type": "stream",
     "text": [
      "Batches: 100%|██████████| 324/324 [00:01<00:00, 168.09it/s]\n",
      "Batches: 100%|██████████| 438/438 [00:04<00:00, 106.85it/s]\n"
     ]
    },
    {
     "name": "stdout",
     "output_type": "stream",
     "text": [
      "Train MAP@25: 0.1471\n"
     ]
    },
    {
     "name": "stderr",
     "output_type": "stream",
     "text": [
      "Batches: 100%|██████████| 109/109 [00:00<00:00, 111.73it/s]\n"
     ]
    },
    {
     "name": "stdout",
     "output_type": "stream",
     "text": [
      "Validation MAP@25: 0.1546\n"
     ]
    },
    {
     "name": "stderr",
     "output_type": "stream",
     "text": [
      "Batches: 100%|██████████| 2/2 [00:00<00:00, 69.32it/s]\n"
     ]
    },
    {
     "name": "stdout",
     "output_type": "stream",
     "text": [
      "submissionv12.csv created successfully!\n"
     ]
    }
   ],
   "source": [
    "import os\n",
    "import numpy as np\n",
    "import pandas as pd\n",
    "from sklearn.model_selection import train_test_split\n",
    "from sentence_transformers import SentenceTransformer\n",
    "from tqdm import tqdm\n",
    "import torch\n",
    "\n",
    "pd.set_option('display.max_rows', 300)\n",
    "\n",
    "IS_SUBMISSION = False\n",
    "K = 25\n",
    "\n",
    "# Use the requested model\n",
    "embedding_model_name = \"sentence-transformers/all-MiniLM-L6-v2\"  # Smaller model\n",
    "\n",
    "print('IS_SUBMISSION:', IS_SUBMISSION)\n",
    "\n",
    "device = 'cuda:4' if torch.cuda.is_available() else 'cpu'\n",
    "if torch.cuda.is_available():\n",
    "    torch.cuda.empty_cache()\n",
    "\n",
    "# Load data\n",
    "df_full_train = pd.read_csv(\"./data/train.csv\").fillna(-1)\n",
    "df_test = pd.read_csv(\"./data/test.csv\")\n",
    "df_misconception_mapping = pd.read_csv(\"./data/misconception_mapping.csv\")\n",
    "\n",
    "df_train_split, df_val = train_test_split(df_full_train, test_size=0.2, random_state=42)\n",
    "df_train_split = df_train_split.reset_index(drop=True)\n",
    "df_val = df_val.reset_index(drop=True)\n",
    "\n",
    "# Guidance text about misconceptions\n",
    "MISCONCEPTION_GUIDANCE = (\n",
    "    \"A misconception is a commonly misunderstood concept in mathematics. \"\n",
    "    \"Your task: Identify the math misconception related to the chosen wrong answer.\"\n",
    ")\n",
    "\n",
    "def clean_text(text):\n",
    "    if not isinstance(text, str):\n",
    "        text = str(text)\n",
    "    # Remove LaTeX markers\n",
    "    text = text.replace(\"\\\\(\", \"\").replace(\"\\\\)\", \"\").replace(\"\\\\[\", \"\").replace(\"\\\\]\", \"\")\n",
    "    # Normalize whitespace\n",
    "    text = \" \".join(text.split())\n",
    "    return text\n",
    "\n",
    "def prepare_input_df(df, is_submission):\n",
    "    items = []\n",
    "    target_ids = []\n",
    "    for _, row in df.iterrows():\n",
    "        correct_answer = row.get(\"CorrectAnswer\", \"\")\n",
    "        correct_answer_text = clean_text(row.get(f\"Answer{correct_answer}Text\",\"\"))\n",
    "        \n",
    "        for choice in ['A', 'B', 'C', 'D']:\n",
    "            if choice == correct_answer:\n",
    "                continue\n",
    "            if not is_submission and row.get(f'Misconception{choice}Id', -1) == -1:\n",
    "                continue\n",
    "\n",
    "            q_id_ans = f\"{row['QuestionId']}_{choice}\"\n",
    "\n",
    "            question_text = clean_text(row.get('QuestionText',''))\n",
    "            ansA = clean_text(row.get('AnswerAText',''))\n",
    "            ansB = clean_text(row.get('AnswerBText',''))\n",
    "            ansC = clean_text(row.get('AnswerCText',''))\n",
    "            ansD = clean_text(row.get('AnswerDText',''))\n",
    "            cName = clean_text(row.get('ConstructName',''))\n",
    "            sName = clean_text(row.get('SubjectName',''))\n",
    "            chosen_wrong = clean_text(row.get(f'Answer{choice}Text',''))\n",
    "\n",
    "            # Add structured tags and highlight chosen wrong answer\n",
    "            full_context = (\n",
    "                f\"[SUBJECT]: {sName}\\n\"\n",
    "                f\"[CONSTRUCT]: {cName}\\n\"\n",
    "                f\"[QUESTION]: {question_text}\\n\"\n",
    "                f\"[ANSWERS]: A) {ansA} B) {ansB} C) {ansC} D) {ansD}\\n\"\n",
    "                f\"[CORRECT_ANSWER]: {correct_answer_text}\\n\"\n",
    "                f\"[CHOSEN_WRONG_ANSWER]: <<{chosen_wrong}>>\\n\"\n",
    "                f\"[GUIDANCE]: {MISCONCEPTION_GUIDANCE}\"\n",
    "            )\n",
    "\n",
    "            items.append({'QuestionId_Answer': q_id_ans, 'Text': full_context})\n",
    "            target_ids.append(int(row.get(f'Misconception{choice}Id', -1)))\n",
    "    df_input = pd.DataFrame(items)\n",
    "    return df_input, target_ids\n",
    "\n",
    "df_train_input, train_target_ids = prepare_input_df(df_train_split, is_submission=False)\n",
    "df_val_input, val_target_ids = prepare_input_df(df_val, is_submission=False)\n",
    "df_test_input, _ = prepare_input_df(df_test, is_submission=True)\n",
    "\n",
    "misconceptions = df_misconception_mapping['MisconceptionName'].astype(str).tolist()\n",
    "\n",
    "# Load the chosen sentence-transformer model\n",
    "model = SentenceTransformer(embedding_model_name, device=device)\n",
    "\n",
    "def embed_texts(texts, model, batch_size=8):\n",
    "    return model.encode(texts, batch_size=batch_size, convert_to_numpy=True, show_progress_bar=True)\n",
    "\n",
    "print(\"Embedding misconceptions...\")\n",
    "misconception_embeds = embed_texts(misconceptions, model)\n",
    "\n",
    "def get_predictions(df_input, doc_embeds):\n",
    "    query_embeds = embed_texts(df_input['Text'].tolist(), model)\n",
    "    sim = np.matmul(query_embeds, doc_embeds.T)\n",
    "    top_k_indices = np.argsort(sim, axis=1)[:, -K:][:, ::-1]\n",
    "    return top_k_indices\n",
    "\n",
    "def map_at_k(y_true, y_pred, k=25):\n",
    "    average_precisions = []\n",
    "    for true, preds in zip(y_true, y_pred):\n",
    "        if true in preds[:k]:\n",
    "            rank = (preds[:k] == true).nonzero()[0][0] + 1\n",
    "            ap = 1.0 / rank\n",
    "        else:\n",
    "            ap = 0.0\n",
    "        average_precisions.append(ap)\n",
    "    return np.mean(average_precisions) if average_precisions else 0.0\n",
    "\n",
    "# Evaluate on Training Split\n",
    "train_sorted_indices = get_predictions(df_train_input, misconception_embeds)\n",
    "train_map25 = map_at_k(train_target_ids, train_sorted_indices, k=25)\n",
    "print(f\"Train MAP@25: {train_map25:.4f}\")\n",
    "\n",
    "# Evaluate on Validation\n",
    "val_sorted_indices = get_predictions(df_val_input, misconception_embeds)\n",
    "val_map25 = map_at_k(val_target_ids, val_sorted_indices, k=25)\n",
    "print(f\"Validation MAP@25: {val_map25:.4f}\")\n",
    "\n",
    "# Generate Test Submission\n",
    "test_sorted_indices = get_predictions(df_test_input, misconception_embeds)\n",
    "df_test_input[\"MisconceptionId\"] = [\" \".join(map(str, row)) for row in test_sorted_indices]\n",
    "df_test_input[[\"QuestionId_Answer\", \"MisconceptionId\"]].to_csv(\"submissionv12.csv\", index=False)\n",
    "print(\"submissionv12.csv created successfully!\")\n"
   ]
  }
 ],
 "metadata": {
  "kernelspec": {
   "display_name": "nlpenv",
   "language": "python",
   "name": "python3"
  },
  "language_info": {
   "codemirror_mode": {
    "name": "ipython",
    "version": 3
   },
   "file_extension": ".py",
   "mimetype": "text/x-python",
   "name": "python",
   "nbconvert_exporter": "python",
   "pygments_lexer": "ipython3",
   "version": "3.12.8"
  }
 },
 "nbformat": 4,
 "nbformat_minor": 2
}
